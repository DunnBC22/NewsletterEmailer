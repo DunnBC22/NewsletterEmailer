{
 "cells": [
  {
   "cell_type": "code",
   "execution_count": 63,
   "id": "aquatic-manitoba",
   "metadata": {},
   "outputs": [],
   "source": [
    "'''\n",
    "This program builds and sends an email to a group of recipients\n",
    "'''\n",
    "import re\n",
    "import smtplib"
   ]
  },
  {
   "cell_type": "code",
   "execution_count": 58,
   "id": "reported-ethiopia",
   "metadata": {},
   "outputs": [],
   "source": [
    "# Select my username and password \n",
    "try:\n",
    "    with open('./Login_info.txt', 'r') as me:\n",
    "        my_email = me.readline()\n",
    "        my_password = me.readline()\n",
    "except Exception as error:\n",
    "    print('It seems like there was trouble reading the Login information from file.')"
   ]
  },
  {
   "cell_type": "code",
   "execution_count": 59,
   "id": "civil-circle",
   "metadata": {},
   "outputs": [],
   "source": [
    "# Select the list of recipients\n",
    "try:\n",
    "    with open('./email_recipients.txt', 'r') as recipients:\n",
    "        recipients = recipients.read()\n",
    "except Exception as error:\n",
    "    print('It seems like there was trouble reading the list of email recipients from file.')"
   ]
  },
  {
   "cell_type": "code",
   "execution_count": 60,
   "id": "special-departure",
   "metadata": {},
   "outputs": [],
   "source": [
    "# read in the text of the email\n",
    "try:\n",
    "    with open('./email_template.txt', 'r') as email_template:\n",
    "        email_body = email_template.read()\n",
    "except Exception as error:\n",
    "    print('It seems like there was trouble reading the email template from file.')"
   ]
  },
  {
   "cell_type": "code",
   "execution_count": null,
   "id": "dried-printer",
   "metadata": {},
   "outputs": [],
   "source": [
    "email_subject = input(\"Please enter the Subject line here: \")\n",
    "#replace non-legal characters\n",
    "email_subject = re.sub('[^A-Za-z0-9!?.,() ]','',email_subject)\n",
    "\n",
    "email_content = f'Subject:{email_subject}\\n\\n{email_body}'"
   ]
  },
  {
   "cell_type": "code",
   "execution_count": 65,
   "id": "native-daniel",
   "metadata": {},
   "outputs": [],
   "source": [
    "# Put everything together and send the email\n",
    "try:\n",
    "    with smtplib.SMTP_SSL('smtp.gmail.com', 465) as smtp:\n",
    "        smtp.login(my_email, my_password) \n",
    "        smtp.sendmail(my_email, recipients, email_content) \n",
    "        smtp.quit()\n",
    "except SMTPDataError:\n",
    "    print('The Server did not like the content of the message. Please double check it.')\n",
    "    quit()\n",
    "except SMTPConnectError:\n",
    "    print('There was a error with trying to connect to the server')\n",
    "    quit()\n",
    "except SMTPAuthenicationError:\n",
    "    print('Please check to make sure that you entered the correct username and password.')\n",
    "    quit()\n",
    "except SMTPServerDisconnected:\n",
    "    print(\"It seems as though the server was disconnected.\")\n",
    "    quit()\n",
    "except:\n",
    "    print('Something went wrong. Please double check the inputs to see if something was spelt \\\n",
    "    wrong or not entered correctly.')\n",
    "    quit()"
   ]
  }
 ],
 "metadata": {
  "kernelspec": {
   "display_name": "Python 3",
   "language": "python",
   "name": "python3"
  },
  "language_info": {
   "codemirror_mode": {
    "name": "ipython",
    "version": 3
   },
   "file_extension": ".py",
   "mimetype": "text/x-python",
   "name": "python",
   "nbconvert_exporter": "python",
   "pygments_lexer": "ipython3",
   "version": "3.8.5"
  }
 },
 "nbformat": 4,
 "nbformat_minor": 5
}
